{
 "cells": [
  {
   "cell_type": "code",
   "execution_count": 1,
   "metadata": {},
   "outputs": [],
   "source": [
    "from GettingDataETL.todoist.TodoIstExtractor import TodoIstExtractor\n",
    "from Env.paths import *\n",
    "import os\n",
    "import pandas as pd\n",
    "\n",
    "\n",
    "def is_directory_empty(directory_path):\n",
    "    return len(os.listdir(directory_path)) == 0\n",
    "\n",
    "def get_data(todoextractor: TodoIstExtractor) -> tuple:\n",
    "    \n",
    "    if is_directory_empty(DATABASE_PATH):\n",
    "        data = todoextractor.extract_data()\n",
    "        todoextractor.load_on_database(data['opened_tasks'], 'opened_tasks.csv')\n",
    "        todoextractor.load_on_database(data['completed_tasks'], 'completed_tasks.csv')\n",
    "        todoextractor.load_on_database(data['projects'], 'projects.csv')\n",
    "        todoextractor.load_on_database(data['comments'], 'comments.csv')\n",
    "        todoextractor.load_on_database(data['productivity_stats'], 'productivity_stats.csv')\n",
    "\n",
    "    files = [f for f in os.listdir(DATABASE_PATH) if os.path.isfile(os.path.join(DATABASE_PATH, f))]\n",
    "    dfs = [ pd.read_pickle(os.path.join(DATABASE_PATH, f)) for f in files ]\n",
    "    \n",
    "    return files, dfs"
   ]
  },
  {
   "cell_type": "code",
   "execution_count": 2,
   "metadata": {},
   "outputs": [],
   "source": [
    "extractor = TodoIstExtractor()\n",
    "files, dfs = get_data(extractor)"
   ]
  },
  {
   "cell_type": "code",
   "execution_count": 24,
   "metadata": {},
   "outputs": [
    {
     "data": {
      "text/plain": [
       "0"
      ]
     },
     "execution_count": 24,
     "metadata": {},
     "output_type": "execute_result"
    }
   ],
   "source": [
    "sum(dfs[3]['date'].value_counts() > 1)"
   ]
  },
  {
   "cell_type": "code",
   "execution_count": 26,
   "metadata": {},
   "outputs": [
    {
     "name": "stdout",
     "output_type": "stream",
     "text": [
      "0\n",
      "0\n",
      "0\n",
      "0\n",
      "0\n"
     ]
    }
   ],
   "source": [
    "for df in dfs:\n",
    "    try:\n",
    "        print(df.duplicated(subset=['id']).sum())\n",
    "    except:\n",
    "        print(df.duplicated(subset=['date']).sum())"
   ]
  }
 ],
 "metadata": {
  "kernelspec": {
   "display_name": "aiassistant-env",
   "language": "python",
   "name": "python3"
  },
  "language_info": {
   "codemirror_mode": {
    "name": "ipython",
    "version": 3
   },
   "file_extension": ".py",
   "mimetype": "text/x-python",
   "name": "python",
   "nbconvert_exporter": "python",
   "pygments_lexer": "ipython3",
   "version": "3.12.0"
  }
 },
 "nbformat": 4,
 "nbformat_minor": 2
}
