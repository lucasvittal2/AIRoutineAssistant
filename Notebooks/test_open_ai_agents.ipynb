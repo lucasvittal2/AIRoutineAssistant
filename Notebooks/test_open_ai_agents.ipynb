{
 "cells": [
  {
   "cell_type": "code",
   "execution_count": 2,
   "metadata": {},
   "outputs": [
    {
     "name": "stdout",
     "output_type": "stream",
     "text": [
      "{\"palavra_chave\":\"GPT\"}\n"
     ]
    },
    {
     "ename": "TypeError",
     "evalue": "string indices must be integers",
     "output_type": "error",
     "traceback": [
      "\u001b[0;31m---------------------------------------------------------------------------\u001b[0m",
      "\u001b[0;31mTypeError\u001b[0m                                 Traceback (most recent call last)",
      "Cell \u001b[0;32mIn[2], line 4\u001b[0m\n\u001b[1;32m      2\u001b[0m \u001b[38;5;28;01mfrom\u001b[39;00m \u001b[38;5;21;01mEnv\u001b[39;00m\u001b[38;5;21;01m.\u001b[39;00m\u001b[38;5;21;01mpaths\u001b[39;00m \u001b[38;5;28;01mimport\u001b[39;00m ASSISTANT_FUNCTIONS_CONFIG_PATH\n\u001b[1;32m      3\u001b[0m assistant \u001b[38;5;241m=\u001b[39m GPTAssistant(assistant_functions_config_file\u001b[38;5;241m=\u001b[39mASSISTANT_FUNCTIONS_CONFIG_PATH \u001b[38;5;241m+\u001b[39m  \u001b[38;5;124m\"\u001b[39m\u001b[38;5;124mtodoist_assistant_functions_config.json\u001b[39m\u001b[38;5;124m\"\u001b[39m)\n\u001b[0;32m----> 4\u001b[0m answer \u001b[38;5;241m=\u001b[39m \u001b[43massistant\u001b[49m\u001b[38;5;241;43m.\u001b[39;49m\u001b[43mget_answer\u001b[49m\u001b[43m(\u001b[49m\u001b[38;5;124;43m'\u001b[39;49m\u001b[38;5;124;43mQuais foram os comentários que realizei que contém a palavra \u001b[39;49m\u001b[38;5;130;43;01m\\'\u001b[39;49;00m\u001b[38;5;124;43mGPT\u001b[39;49m\u001b[38;5;130;43;01m\\'\u001b[39;49;00m\u001b[38;5;124;43m ?\u001b[39;49m\u001b[38;5;124;43m'\u001b[39;49m\u001b[43m)\u001b[49m\n\u001b[1;32m      5\u001b[0m \u001b[38;5;28mprint\u001b[39m(answer)\n",
      "File \u001b[0;32m~/projects/AIRoutineAssistant/Assistant/GPTAssistant.py:124\u001b[0m, in \u001b[0;36mGPTAssistant.get_answer\u001b[0;34m(self, query)\u001b[0m\n\u001b[1;32m    122\u001b[0m \u001b[38;5;28;01melif\u001b[39;00m function_name \u001b[38;5;241m==\u001b[39m \u001b[38;5;124m'\u001b[39m\u001b[38;5;124mobter_comentarios_por_palavra_chave\u001b[39m\u001b[38;5;124m'\u001b[39m:\n\u001b[1;32m    123\u001b[0m     \u001b[38;5;28mprint\u001b[39m(args)\n\u001b[0;32m--> 124\u001b[0m     keyword \u001b[38;5;241m=\u001b[39m \u001b[43margs\u001b[49m\u001b[43m[\u001b[49m\u001b[38;5;124;43m'\u001b[39;49m\u001b[38;5;124;43mpalavra_chave\u001b[39;49m\u001b[38;5;124;43m'\u001b[39;49m\u001b[43m]\u001b[49m\n\u001b[1;32m    125\u001b[0m     comments \u001b[38;5;241m=\u001b[39m metric_calculator\u001b[38;5;241m.\u001b[39mget_comments_by_word(keyword)\n\u001b[1;32m    126\u001b[0m     \u001b[38;5;28;01mif\u001b[39;00m comments \u001b[38;5;241m==\u001b[39m []:\n",
      "\u001b[0;31mTypeError\u001b[0m: string indices must be integers"
     ]
    }
   ],
   "source": [
    "from Assistant.GPTAssistant import GPTAssistant\n",
    "from Env.paths import ASSISTANT_FUNCTIONS_CONFIG_PATH\n",
    "assistant = GPTAssistant(assistant_functions_config_file=ASSISTANT_FUNCTIONS_CONFIG_PATH +  \"todoist_assistant_functions_config.json\")\n",
    "answer = assistant.get_answer('Quais foram os comentários que realizei que contém a palavra \\'GPT\\' ?')\n",
    "print(answer)"
   ]
  }
 ],
 "metadata": {
  "kernelspec": {
   "display_name": "test-env",
   "language": "python",
   "name": "python3"
  },
  "language_info": {
   "codemirror_mode": {
    "name": "ipython",
    "version": 3
   },
   "file_extension": ".py",
   "mimetype": "text/x-python",
   "name": "python",
   "nbconvert_exporter": "python",
   "pygments_lexer": "ipython3",
   "version": "3.10.13"
  }
 },
 "nbformat": 4,
 "nbformat_minor": 2
}
